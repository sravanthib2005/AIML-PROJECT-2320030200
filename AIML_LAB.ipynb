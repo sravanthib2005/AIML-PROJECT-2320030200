{
  "nbformat": 4,
  "nbformat_minor": 0,
  "metadata": {
    "colab": {
      "provenance": [],
      "authorship_tag": "ABX9TyP8D9szqfMNQYa4sM3G+lbT",
      "include_colab_link": true
    },
    "kernelspec": {
      "name": "python3",
      "display_name": "Python 3"
    },
    "language_info": {
      "name": "python"
    }
  },
  "cells": [
    {
      "cell_type": "markdown",
      "metadata": {
        "id": "view-in-github",
        "colab_type": "text"
      },
      "source": [
        "<a href=\"https://colab.research.google.com/github/sravanthib2005/AIML-PROJECT-2320030200/blob/main/AIML_LAB.ipynb\" target=\"_parent\"><img src=\"https://colab.research.google.com/assets/colab-badge.svg\" alt=\"Open In Colab\"/></a>"
      ]
    },
    {
      "cell_type": "code",
      "execution_count": 4,
      "metadata": {
        "colab": {
          "base_uri": "https://localhost:8080/"
        },
        "id": "bSLSyMxUUSLp",
        "outputId": "29ed5f3f-1362-41d6-df1d-b44bc97de7d8"
      },
      "outputs": [
        {
          "output_type": "stream",
          "name": "stdout",
          "text": [
            "A B C D E F "
          ]
        }
      ],
      "source": [
        "from collections import deque\n",
        "\n",
        "def bfs(graph, start):\n",
        "    visited = set()\n",
        "    queue = deque([start])\n",
        "    visited.add(start)\n",
        "\n",
        "    while queue:\n",
        "        vertex = queue.popleft()\n",
        "        print(vertex, end=\" \")\n",
        "\n",
        "\n",
        "        for neighbor in graph[vertex]:\n",
        "            if neighbor not in visited:\n",
        "                queue.append(neighbor)\n",
        "                visited.add(neighbor)\n",
        "\n",
        "\n",
        "graph = {\n",
        "    'A': ['B', 'C'],\n",
        "    'B': ['A', 'D', 'E'],\n",
        "    'C': ['A', 'F'],\n",
        "    'D': ['B'],\n",
        "    'E': ['B', 'F'],\n",
        "    'F': ['C', 'E']\n",
        "}\n",
        "\n",
        "\n",
        "bfs(graph, 'A')\n"
      ]
    },
    {
      "cell_type": "code",
      "source": [
        "def dfs_iterative(graph, start):\n",
        "    visited = set()\n",
        "    stack = [start]\n",
        "\n",
        "    while stack:\n",
        "        vertex = stack.pop()\n",
        "        if vertex not in visited:\n",
        "            print(vertex, end=\" \")\n",
        "            visited.add(vertex)\n",
        "\n",
        "\n",
        "            for neighbor in reversed(graph[vertex]):\n",
        "                if neighbor not in visited:\n",
        "                    stack.append(neighbor)\n",
        "\n",
        "\n",
        "graph = {\n",
        "    'A': ['B', 'C'],\n",
        "    'B': ['A', 'D', 'E'],\n",
        "    'C': ['A', 'F'],\n",
        "    'D': ['B'],\n",
        "    'E': ['B', 'F'],\n",
        "    'F': ['C', 'E']\n",
        "}\n",
        "\n",
        "\n",
        "dfs_iterative(graph, 'A')\n"
      ],
      "metadata": {
        "colab": {
          "base_uri": "https://localhost:8080/"
        },
        "id": "mVmeo9MsX7wf",
        "outputId": "7608cbcd-695e-40d2-82f3-15b21decf0c3"
      },
      "execution_count": 3,
      "outputs": [
        {
          "output_type": "stream",
          "name": "stdout",
          "text": [
            "A B D E F C "
          ]
        }
      ]
    },
    {
      "cell_type": "code",
      "source": [
        "def dls(graph, node, target, depth):\n",
        "    \"\"\"\n",
        "    Depth-Limited Search (DLS): A helper function that performs DFS to a specific depth limit.\n",
        "    \"\"\"\n",
        "\n",
        "    print(f\"Visiting Node: {node} at Depth: {depth}\")\n",
        "\n",
        "\n",
        "    if node == target:\n",
        "        return True\n",
        "\n",
        "\n",
        "    if depth <= 0:\n",
        "        return False\n",
        "\n",
        "\n",
        "    for neighbor in graph[node]:\n",
        "        if dls(graph, neighbor, target, depth - 1):\n",
        "            return True\n",
        "\n",
        "    return False\n",
        "\n",
        "def iddfs(graph, start, target, max_depth):\n",
        "    \"\"\"\n",
        "    Iterative Deepening DFS (IDDFS): Repeatedly applies DLS with increasing depth limits.\n",
        "    \"\"\"\n",
        "\n",
        "    for depth in range(max_depth + 1):\n",
        "        print(f\"\\n--- Depth Level: {depth} ---\")\n",
        "        if dls(graph, start, target, depth):\n",
        "            print(f\"\\nTarget {target} found at depth {depth}!\")\n",
        "            return True\n",
        "\n",
        "    print(f\"\\nTarget {target} not found within depth {max_depth}.\")\n",
        "    return False\n",
        "\n",
        "\n",
        "graph = {\n",
        "    'A': ['B', 'C'],\n",
        "    'B': ['A', 'D', 'E'],\n",
        "    'C': ['A', 'F'],\n",
        "    'D': ['B'],\n",
        "    'E': ['B', 'F'],\n",
        "    'F': ['C', 'E']\n",
        "}\n",
        "\n",
        "\n",
        "iddfs(graph, 'A', 'F', 3)\n"
      ],
      "metadata": {
        "colab": {
          "base_uri": "https://localhost:8080/"
        },
        "id": "PowCwlhmbVMU",
        "outputId": "2d1bf899-f7cc-4e83-ed28-23a3ff7cf6d1"
      },
      "execution_count": 6,
      "outputs": [
        {
          "output_type": "stream",
          "name": "stdout",
          "text": [
            "\n",
            "--- Depth Level: 0 ---\n",
            "Visiting Node: A at Depth: 0\n",
            "\n",
            "--- Depth Level: 1 ---\n",
            "Visiting Node: A at Depth: 1\n",
            "Visiting Node: B at Depth: 0\n",
            "Visiting Node: C at Depth: 0\n",
            "\n",
            "--- Depth Level: 2 ---\n",
            "Visiting Node: A at Depth: 2\n",
            "Visiting Node: B at Depth: 1\n",
            "Visiting Node: A at Depth: 0\n",
            "Visiting Node: D at Depth: 0\n",
            "Visiting Node: E at Depth: 0\n",
            "Visiting Node: C at Depth: 1\n",
            "Visiting Node: A at Depth: 0\n",
            "Visiting Node: F at Depth: 0\n",
            "\n",
            "Target F found at depth 2!\n"
          ]
        },
        {
          "output_type": "execute_result",
          "data": {
            "text/plain": [
              "True"
            ]
          },
          "metadata": {},
          "execution_count": 6
        }
      ]
    },
    {
      "cell_type": "code",
      "source": [
        "import random\n",
        "\n",
        "def random_movement_2d(steps):\n",
        "\n",
        "    x, y = 0, 0\n",
        "\n",
        "\n",
        "    print(f\"Starting at position: ({x}, {y})\")\n",
        "\n",
        "\n",
        "    directions = ['up', 'down', 'left', 'right']\n",
        "\n",
        "    for step in range(steps):\n",
        "\n",
        "        move = random.choice(directions)\n",
        "\n",
        "\n",
        "        if move == 'up':\n",
        "            y += 1\n",
        "        elif move == 'down':\n",
        "            y -= 1\n",
        "        elif move == 'left':\n",
        "            x -= 1\n",
        "        elif move == 'right':\n",
        "            x += 1\n",
        "\n",
        "\n",
        "        print(f\"Step {step + 1}: Moved {move}, New Position: ({x}, {y})\")\n",
        "\n",
        "\n",
        "    print(f\"Final position: ({x}, {y})\")\n",
        "\n",
        "\n",
        "random_movement_2d(10)\n"
      ],
      "metadata": {
        "colab": {
          "base_uri": "https://localhost:8080/"
        },
        "id": "2QBVhC0acM_E",
        "outputId": "76071475-2daf-45b0-8764-30f23f6f22e4"
      },
      "execution_count": 7,
      "outputs": [
        {
          "output_type": "stream",
          "name": "stdout",
          "text": [
            "Starting at position: (0, 0)\n",
            "Step 1: Moved right, New Position: (1, 0)\n",
            "Step 2: Moved right, New Position: (2, 0)\n",
            "Step 3: Moved up, New Position: (2, 1)\n",
            "Step 4: Moved up, New Position: (2, 2)\n",
            "Step 5: Moved up, New Position: (2, 3)\n",
            "Step 6: Moved right, New Position: (3, 3)\n",
            "Step 7: Moved right, New Position: (4, 3)\n",
            "Step 8: Moved left, New Position: (3, 3)\n",
            "Step 9: Moved left, New Position: (2, 3)\n",
            "Step 10: Moved left, New Position: (1, 3)\n",
            "Final position: (1, 3)\n"
          ]
        }
      ]
    },
    {
      "cell_type": "code",
      "source": [
        "import heapq\n",
        "\n",
        "\n",
        "def astar(grid, start, goal):\n",
        "\n",
        "    directions = [(0, 1), (1, 0), (0, -1), (-1, 0)]\n",
        "\n",
        "\n",
        "    open_list = []\n",
        "    heapq.heappush(open_list, (0, start))\n",
        "\n",
        "\n",
        "    g_cost = {start: 0}\n",
        "\n",
        "\n",
        "    came_from = {start: None}\n",
        "\n",
        "\n",
        "    def heuristic(a, b):\n",
        "        return abs(a[0] - b[0]) + abs(a[1] - b[1])\n",
        "\n",
        "    while open_list:\n",
        "\n",
        "        _, current = heapq.heappop(open_list)\n",
        "\n",
        "\n",
        "        if current == goal:\n",
        "            return reconstruct_path(came_from, current)\n",
        "\n",
        "\n",
        "        for direction in directions:\n",
        "            neighbor = (current[0] + direction[0], current[1] + direction[1])\n",
        "\n",
        "\n",
        "            if 0 <= neighbor[0] < len(grid) and 0 <= neighbor[1] < len(grid[0]):\n",
        "\n",
        "                if grid[neighbor[0]][neighbor[1]] == 1:\n",
        "                    continue\n",
        "\n",
        "\n",
        "                tentative_g_cost = g_cost[current] + 1\n",
        "\n",
        "\n",
        "                if neighbor not in g_cost or tentative_g_cost < g_cost[neighbor]:\n",
        "                    g_cost[neighbor] = tentative_g_cost\n",
        "                    f_cost = tentative_g_cost + heuristic(neighbor, goal)\n",
        "                    heapq.heappush(open_list, (f_cost, neighbor))\n",
        "                    came_from[neighbor] = current\n",
        "\n",
        "    return None\n",
        "\n",
        "\n",
        "def reconstruct_path(came_from, current):\n",
        "    path = []\n",
        "    while current is not None:\n",
        "        path.append(current)\n",
        "        current = came_from[current]\n",
        "    return path[::-1]  # Reverse the path\n",
        "\n",
        "\n",
        "grid = [\n",
        "    [0, 1, 0, 0, 0],\n",
        "    [0, 1, 0, 1, 0],\n",
        "    [0, 0, 0, 1, 0],\n",
        "    [0, 1, 0, 0, 0],\n",
        "    [0, 0, 0, 1, 0]\n",
        "]\n",
        "\n",
        "\n",
        "start = (0, 0)\n",
        "goal = (4, 4)\n",
        "\n",
        "\n",
        "path = astar(grid, start, goal)\n",
        "\n",
        "\n",
        "if path:\n",
        "    print(\"Path found:\", path)\n",
        "else:\n",
        "    print(\"No path found.\")\n"
      ],
      "metadata": {
        "colab": {
          "base_uri": "https://localhost:8080/"
        },
        "id": "f9tGZHhyc0e5",
        "outputId": "0d564472-3993-43a5-b09c-8e083f583220"
      },
      "execution_count": 9,
      "outputs": [
        {
          "output_type": "stream",
          "name": "stdout",
          "text": [
            "Path found: [(0, 0), (1, 0), (2, 0), (2, 1), (2, 2), (3, 2), (3, 3), (3, 4), (4, 4)]\n"
          ]
        }
      ]
    },
    {
      "cell_type": "code",
      "source": [
        "import matplotlib.pyplot as plt\n",
        "import numpy as np\n",
        "\n",
        "# Sample data: Ages\n",
        "ages = np.random.randint(18, 70, size=100)  # Generating random ages for example\n",
        "\n",
        "# Create a histogram\n",
        "plt.hist(ages, bins=10, color='skyblue', edgecolor='black')\n",
        "plt.xlabel('Age')\n",
        "plt.ylabel('Frequency')\n",
        "plt.title('Distribution of Ages')\n",
        "plt.show()\n"
      ],
      "metadata": {
        "colab": {
          "base_uri": "https://localhost:8080/",
          "height": 472
        },
        "id": "JbCHjnWXek6k",
        "outputId": "7bfee8df-8b56-4294-89d4-08d78306914e"
      },
      "execution_count": 10,
      "outputs": [
        {
          "output_type": "display_data",
          "data": {
            "text/plain": [
              "<Figure size 640x480 with 1 Axes>"
            ],
            "image/png": "[encoded data removed]"
          },
          "metadata": {}
        }
      ]
    },
    {
      "cell_type": "code",
      "source": [
        "import matplotlib.pyplot as plt\n",
        "\n",
        "\n",
        "data = [10, 15, 20, 22, 23, 24, 25, 30, 35, 37, 40, 45, 50, 55, 60, 65, 70, 75, 80]\n",
        "\n",
        "\n",
        "plt.hist(data, bins=5, edgecolor='black')\n",
        "\n",
        "\n",
        "plt.title('Histogram Example')\n",
        "plt.xlabel('Value')\n",
        "plt.ylabel('Frequency')\n",
        "\n",
        "\n",
        "plt.show()\n"
      ],
      "metadata": {
        "colab": {
          "base_uri": "https://localhost:8080/",
          "height": 472
        },
        "id": "chcKB57OfK2h",
        "outputId": "40531ec9-52bc-45a4-da9d-19f0f01d0b8a"
      },
      "execution_count": 11,
      "outputs": [
        {
          "output_type": "display_data",
          "data": {
            "text/plain": [
              "<Figure size 640x480 with 1 Axes>"
            ],
            "image/png": "[encoded data removed]"
          },
          "metadata": {}
        }
      ]
    }
  ]
}